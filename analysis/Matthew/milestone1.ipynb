{
 "cells": [
  {
   "cell_type": "markdown",
   "metadata": {},
   "source": []
  },
  {
   "cell_type": "code",
   "execution_count": 1,
   "metadata": {},
   "outputs": [],
   "source": [
    "# Relative Importing of Data\n",
    "import sys\n",
    "sys.path.append(\"..\")\n",
    "from project_functions import load_data\n",
    "import pandas as pd"
   ]
  },
  {
   "cell_type": "code",
   "execution_count": 2,
   "metadata": {},
   "outputs": [
    {
     "name": "stdout",
     "output_type": "stream",
     "text": [
      "   age     sex    bmi  children smoker     region    charges\n",
      "0   31  female  29.26         1     no  southeast  4350.5144\n",
      "1   31  female  32.68         1     no  northwest  4738.2682\n",
      "2   31  female  23.60         2     no  southwest  4931.6470\n",
      "3   31  female  25.80         2     no  southwest  4934.7050\n",
      "4   31  female  36.63         2     no  southeast  4949.7587\n"
     ]
    }
   ],
   "source": [
    "path = \"../../data/raw/Medical_Cost.csv\"\n",
    "df = load_data(\n",
    "    path,\n",
    "    is_female=True,\n",
    "    has_children=True,\n",
    "    older_than=30,\n",
    "    reset_index=True\n",
    ")\n",
    "print(df.head())"
   ]
  }
 ],
 "metadata": {
  "kernelspec": {
   "display_name": "Python 3",
   "language": "python",
   "name": "python3"
  },
  "language_info": {
   "codemirror_mode": {
    "name": "ipython",
    "version": 3
   },
   "file_extension": ".py",
   "mimetype": "text/x-python",
   "name": "python",
   "nbconvert_exporter": "python",
   "pygments_lexer": "ipython3",
   "version": "3.8.0"
  }
 },
 "nbformat": 4,
 "nbformat_minor": 4
}
